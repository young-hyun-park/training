{
 "cells": [
  {
   "cell_type": "code",
   "execution_count": 1,
   "id": "7dc551d3",
   "metadata": {},
   "outputs": [],
   "source": [
    "import numpy as np\n",
    "import matplotlib.pyplot as plt\n",
    "%matplotlib inline"
   ]
  },
  {
   "cell_type": "code",
   "execution_count": 27,
   "id": "91bcb304",
   "metadata": {},
   "outputs": [
    {
     "name": "stderr",
     "output_type": "stream",
     "text": [
      "<ipython-input-27-0e03beb66c8c>:1: RuntimeWarning: overflow encountered in exp\n",
      "  plt.plot(-np.log(1/(1+np.exp(range(0,1000000)))),label = 'y=1')\n",
      "<ipython-input-27-0e03beb66c8c>:1: RuntimeWarning: divide by zero encountered in log\n",
      "  plt.plot(-np.log(1/(1+np.exp(range(0,1000000)))),label = 'y=1')\n",
      "<ipython-input-27-0e03beb66c8c>:2: RuntimeWarning: overflow encountered in exp\n",
      "  plt.plot(-np.log(1-(1/(1+np.exp(range(0,1000000))))),label = 'y=0')\n"
     ]
    },
    {
     "data": {
      "image/png": "[encoded data removed]",
      "text/plain": [
       "<Figure size 432x288 with 1 Axes>"
      ]
     },
     "metadata": {
      "needs_background": "light"
     },
     "output_type": "display_data"
    }
   ],
   "source": [
    "\n",
    "plt.plot(-np.log(1/(1+np.exp(range(0,1000000)))),label = 'y=1')\n",
    "plt.plot(-np.log(1-(1/(1+np.exp(range(0,1000000))))),label = 'y=0')\n",
    "plt.legend()\n",
    "plt.show()"
   ]
  },
  {
   "cell_type": "code",
   "execution_count": 34,
   "id": "44485fdc",
   "metadata": {},
   "outputs": [
    {
     "name": "stderr",
     "output_type": "stream",
     "text": [
      "<ipython-input-34-7e64a8a5aff3>:1: RuntimeWarning: overflow encountered in exp\n",
      "  plt.plot(1/(1+np.exp(range(10000))))\n"
     ]
    },
    {
     "data": {
      "image/png": "[encoded data removed]",
      "text/plain": [
       "<Figure size 432x288 with 1 Axes>"
      ]
     },
     "metadata": {
      "needs_background": "light"
     },
     "output_type": "display_data"
    }
   ],
   "source": [
    "plt.plot(1/(1+np.exp(range(10000))))\n",
    "plt.show()"
   ]
  },
  {
   "cell_type": "code",
   "execution_count": null,
   "id": "a21b5835",
   "metadata": {},
   "outputs": [],
   "source": []
  }
 ],
 "metadata": {
  "kernelspec": {
   "display_name": "Python 3",
   "language": "python",
   "name": "python3"
  },
  "language_info": {
   "codemirror_mode": {
    "name": "ipython",
    "version": 3
   },
   "file_extension": ".py",
   "mimetype": "text/x-python",
   "name": "python",
   "nbconvert_exporter": "python",
   "pygments_lexer": "ipython3",
   "version": "3.8.8"
  }
 },
 "nbformat": 4,
 "nbformat_minor": 5
}
